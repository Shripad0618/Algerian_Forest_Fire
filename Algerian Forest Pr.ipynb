{
 "cells": [
  {
   "cell_type": "code",
   "execution_count": 1,
   "metadata": {},
   "outputs": [],
   "source": [
    "from datetime import datetime\n"
   ]
  },
  {
   "cell_type": "code",
   "execution_count": 2,
   "metadata": {},
   "outputs": [],
   "source": [
    "class App_logger:\n",
    "    \n",
    "    \"\"\"\n",
    "    This class will be used to log the instances when every code is run\n",
    "    \n",
    "    Written By: Shripad Kumar\n",
    "    Version: 1.0\n",
    "    Revisions: None\n",
    "    \n",
    "    \"\"\"\n",
    "    \n",
    "    \n",
    "    def __init__(self):\n",
    "        pass\n",
    "    def log(self, file_object,log_message):\n",
    "        self.now = datetime.now()\n",
    "        self.date = self.now.date()\n",
    "        self.current_time = self.now.strftime(\"%H:%M:%S\")\n",
    "        file_object.write(str(self.date)+ \"/\"+str(self.current_time)+\"\\t\\t\" + log_message+\"\\n\")"
   ]
  },
  {
   "cell_type": "code",
   "execution_count": 16,
   "metadata": {},
   "outputs": [],
   "source": [
    "import pandas as pd\n",
    "class file_loader(App_logger):\n",
    "    def reading_file(self):\n",
    "        \"\"\"\n",
    "        Method Name: Reading the file from the data\n",
    "        Description: This reads the algerian data in a csv format\n",
    "        \n",
    "        Written By: Shripad Kumar\n",
    "        \n",
    "        \n",
    "        \n",
    "        \"\"\"\n",
    "        \n",
    "        \n",
    "        try:\n",
    "            f= open('Training_Main_Log.txt','a+')\n",
    "            listdir = \"D:\\\\FSDS\\\\SELF FOLDER\\\\algerian+forest+fires+dataset\"\n",
    "            file = \"Algerian_forest_fires_dataset_UPDATE.csv\"\n",
    "            df = pd.read_csv(file)\n",
    "            self.log(f,\"%s Dataset has been read successfully\"%file)\n",
    "        except Exception as e:\n",
    "            f= open('Training_Main_Log.txt','a+')\n",
    "            self.log(f,\"Error occurres while reading the dataset.exception has been raised:: %s\" %e)\n",
    "            raise e\n",
    "            f.close()\n",
    "    \n",
    "    def vlaidating_dataset(self):\n",
    "        try:\n",
    "            df.columns = df.columns.str.strip()\n",
    "            f = open(\"Training_logs/data_handling.txt\",\"a+\")\n",
    "            self.log(\"Data Transformation has started!! \")\n",
    "            try:\n",
    "                Abbes_df =  df.iloc[124:]\n",
    "                Bejaia_df = df.iloc[0:122]\n",
    "                self.log(\"Data has been successfully divided to 2 parts\")\n",
    "                f.close()\n",
    "            except Exception as e:\n",
    "                f = open(\"Training_logs/data_handling.txt\",\"a+\")\n",
    "                self.log(f,\"Error occurred while partition of the dataset:: %s\" %e)\n",
    "                raise e\n",
    "        except Exception as e:\n",
    "            f = open(\"Training_logs/data_handling.txt\",\"a+\")\n",
    "            self.log(f,\"Error occurred while reading validation of the dataset:: %s\" %e)\n",
    "            raise e "
   ]
  },
  {
   "cell_type": "code",
   "execution_count": 31,
   "metadata": {},
   "outputs": [],
   "source": [
    "df = pd.read_csv"
   ]
  },
  {
   "cell_type": "code",
   "execution_count": 14,
   "metadata": {},
   "outputs": [
    {
     "data": {
      "text/plain": [
       "'D:\\\\FSDS\\\\SELF FOLDER\\\\algerian+forest+fires+dataset'"
      ]
     },
     "execution_count": 14,
     "metadata": {},
     "output_type": "execute_result"
    }
   ],
   "source": [
    "for file in os.getcwd()"
   ]
  },
  {
   "cell_type": "code",
   "execution_count": 16,
   "metadata": {},
   "outputs": [
    {
     "data": {
      "text/plain": [
       "['.ipynb_checkpoints',\n",
       " 'Algerain forest fire.ipynb',\n",
       " 'Algerian Forest Pr.ipynb',\n",
       " 'Algerian_forest_fires_dataset_UPDATE.csv',\n",
       " 'Log_ROC.png',\n",
       " 'Training_Main_Log.txt']"
      ]
     },
     "execution_count": 16,
     "metadata": {},
     "output_type": "execute_result"
    }
   ],
   "source": [
    "listdir('D:\\\\FSDS\\\\SELF FOLDER\\\\algerian+forest+fires+dataset')"
   ]
  },
  {
   "cell_type": "code",
   "execution_count": null,
   "metadata": {},
   "outputs": [],
   "source": []
  }
 ],
 "metadata": {
  "kernelspec": {
   "display_name": "Python 3 (ipykernel)",
   "language": "python",
   "name": "python3"
  },
  "language_info": {
   "codemirror_mode": {
    "name": "ipython",
    "version": 3
   },
   "file_extension": ".py",
   "mimetype": "text/x-python",
   "name": "python",
   "nbconvert_exporter": "python",
   "pygments_lexer": "ipython3",
   "version": "3.8.5"
  }
 },
 "nbformat": 4,
 "nbformat_minor": 4
}
